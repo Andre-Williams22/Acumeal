{
 "cells": [
  {
   "cell_type": "code",
   "execution_count": 1,
   "metadata": {},
   "outputs": [],
   "source": [
    "import pandas as pd \n",
    "import numpy as np "
   ]
  },
  {
   "cell_type": "code",
   "execution_count": 2,
   "metadata": {},
   "outputs": [
    {
     "data": {
      "text/html": [
       "<div>\n",
       "<style scoped>\n",
       "    .dataframe tbody tr th:only-of-type {\n",
       "        vertical-align: middle;\n",
       "    }\n",
       "\n",
       "    .dataframe tbody tr th {\n",
       "        vertical-align: top;\n",
       "    }\n",
       "\n",
       "    .dataframe thead th {\n",
       "        text-align: right;\n",
       "    }\n",
       "</style>\n",
       "<table border=\"1\" class=\"dataframe\">\n",
       "  <thead>\n",
       "    <tr style=\"text-align: right;\">\n",
       "      <th></th>\n",
       "      <th>High Calorie Plan</th>\n",
       "      <th>Breakfast1</th>\n",
       "      <th>Breakfast2</th>\n",
       "      <th>Lunch</th>\n",
       "      <th>Dinner</th>\n",
       "      <th>Snack</th>\n",
       "      <th>Total</th>\n",
       "      <th>Measurement</th>\n",
       "    </tr>\n",
       "  </thead>\n",
       "  <tbody>\n",
       "    <tr>\n",
       "      <th>1</th>\n",
       "      <td>Meal</td>\n",
       "      <td>Knock-Oats</td>\n",
       "      <td>Vegan Breakfast Potatoes</td>\n",
       "      <td>Strawberry protein smoothie</td>\n",
       "      <td>Basil Pesto Pasta w/ Broccoli, Mushrooms</td>\n",
       "      <td>Peanut Butter &amp; Celery</td>\n",
       "      <td>Nutrition</td>\n",
       "      <td>Measurement</td>\n",
       "    </tr>\n",
       "    <tr>\n",
       "      <th>2</th>\n",
       "      <td>Calories</td>\n",
       "      <td>451</td>\n",
       "      <td>366</td>\n",
       "      <td>769</td>\n",
       "      <td>1070</td>\n",
       "      <td>418</td>\n",
       "      <td>3074</td>\n",
       "      <td>calories</td>\n",
       "    </tr>\n",
       "    <tr>\n",
       "      <th>3</th>\n",
       "      <td>Carbs (grams)</td>\n",
       "      <td>63</td>\n",
       "      <td>55</td>\n",
       "      <td>44</td>\n",
       "      <td>98</td>\n",
       "      <td>21</td>\n",
       "      <td>281</td>\n",
       "      <td>grams</td>\n",
       "    </tr>\n",
       "    <tr>\n",
       "      <th>4</th>\n",
       "      <td>Fat</td>\n",
       "      <td>20</td>\n",
       "      <td>14</td>\n",
       "      <td>19</td>\n",
       "      <td>64</td>\n",
       "      <td>32</td>\n",
       "      <td>149</td>\n",
       "      <td>grams</td>\n",
       "    </tr>\n",
       "  </tbody>\n",
       "</table>\n",
       "</div>"
      ],
      "text/plain": [
       "  High Calorie Plan  Breakfast1                Breakfast2  \\\n",
       "1              Meal  Knock-Oats  Vegan Breakfast Potatoes   \n",
       "2          Calories         451                       366   \n",
       "3     Carbs (grams)          63                        55   \n",
       "4               Fat          20                        14   \n",
       "\n",
       "                         Lunch                                    Dinner  \\\n",
       "1  Strawberry protein smoothie  Basil Pesto Pasta w/ Broccoli, Mushrooms   \n",
       "2                          769                                      1070   \n",
       "3                           44                                        98   \n",
       "4                           19                                        64   \n",
       "\n",
       "                    Snack      Total  Measurement  \n",
       "1  Peanut Butter & Celery  Nutrition  Measurement  \n",
       "2                     418       3074     calories  \n",
       "3                      21        281        grams  \n",
       "4                      32        149        grams  "
      ]
     },
     "execution_count": 2,
     "metadata": {},
     "output_type": "execute_result"
    }
   ],
   "source": [
    "df = pd.read_csv(\"../Datasets/High-Cal.csv\")\n",
    "df = df.iloc[1:5]\n",
    "df"
   ]
  },
  {
   "cell_type": "markdown",
   "metadata": {},
   "source": [
    "# Week 1"
   ]
  },
  {
   "cell_type": "code",
   "execution_count": 3,
   "metadata": {},
   "outputs": [
    {
     "data": {
      "text/plain": [
       "'Knock-Oats'"
      ]
     },
     "execution_count": 3,
     "metadata": {},
     "output_type": "execute_result"
    }
   ],
   "source": [
    "df['Breakfast1'].iloc[0]"
   ]
  },
  {
   "cell_type": "code",
   "execution_count": 4,
   "metadata": {},
   "outputs": [
    {
     "data": {
      "text/plain": [
       "'Vegan Breakfast Potatoes'"
      ]
     },
     "execution_count": 4,
     "metadata": {},
     "output_type": "execute_result"
    }
   ],
   "source": [
    "df['Breakfast2'].iloc[0]"
   ]
  },
  {
   "cell_type": "code",
   "execution_count": 5,
   "metadata": {},
   "outputs": [
    {
     "data": {
      "text/plain": [
       "'Strawberry protein smoothie'"
      ]
     },
     "execution_count": 5,
     "metadata": {},
     "output_type": "execute_result"
    }
   ],
   "source": [
    "df['Lunch'].iloc[0]"
   ]
  },
  {
   "cell_type": "code",
   "execution_count": 6,
   "metadata": {},
   "outputs": [
    {
     "data": {
      "text/plain": [
       "'Basil Pesto Pasta w/ Broccoli, Mushrooms'"
      ]
     },
     "execution_count": 6,
     "metadata": {},
     "output_type": "execute_result"
    }
   ],
   "source": [
    "df['Dinner'].iloc[0]"
   ]
  },
  {
   "cell_type": "code",
   "execution_count": 7,
   "metadata": {},
   "outputs": [
    {
     "data": {
      "text/plain": [
       "'Peanut Butter & Celery'"
      ]
     },
     "execution_count": 7,
     "metadata": {},
     "output_type": "execute_result"
    }
   ],
   "source": [
    "df['Snack'].iloc[0]"
   ]
  },
  {
   "cell_type": "code",
   "execution_count": 8,
   "metadata": {},
   "outputs": [
    {
     "data": {
      "text/plain": [
       "'3074'"
      ]
     },
     "execution_count": 8,
     "metadata": {},
     "output_type": "execute_result"
    }
   ],
   "source": [
    "df['Total'].iloc[1] #TOTAL CALORIES"
   ]
  },
  {
   "cell_type": "code",
   "execution_count": 9,
   "metadata": {},
   "outputs": [
    {
     "data": {
      "text/plain": [
       "'Measurement'"
      ]
     },
     "execution_count": 9,
     "metadata": {},
     "output_type": "execute_result"
    }
   ],
   "source": [
    " df['Measurement'].iloc[0]"
   ]
  },
  {
   "cell_type": "code",
   "execution_count": null,
   "metadata": {},
   "outputs": [],
   "source": []
  },
  {
   "cell_type": "code",
   "execution_count": null,
   "metadata": {},
   "outputs": [],
   "source": []
  },
  {
   "cell_type": "code",
   "execution_count": 10,
   "metadata": {},
   "outputs": [
    {
     "data": {
      "text/plain": [
       "1             Meal\n",
       "2         Calories\n",
       "3    Carbs (grams)\n",
       "4              Fat\n",
       "Name: High Calorie Plan, dtype: object"
      ]
     },
     "execution_count": 10,
     "metadata": {},
     "output_type": "execute_result"
    }
   ],
   "source": [
    "breakfast = df['Breakfast1']\n",
    "lunch = df['Lunch']\n",
    "dinner = df['Dinner']\n",
    "snack = df['Snack']\n",
    "total = df['Total']\n",
    "week = df['High Calorie Plan']\n",
    "week"
   ]
  },
  {
   "cell_type": "code",
   "execution_count": 11,
   "metadata": {},
   "outputs": [
    {
     "data": {
      "text/html": [
       "<div>\n",
       "<style scoped>\n",
       "    .dataframe tbody tr th:only-of-type {\n",
       "        vertical-align: middle;\n",
       "    }\n",
       "\n",
       "    .dataframe tbody tr th {\n",
       "        vertical-align: top;\n",
       "    }\n",
       "\n",
       "    .dataframe thead th {\n",
       "        text-align: right;\n",
       "    }\n",
       "</style>\n",
       "<table border=\"1\" class=\"dataframe\">\n",
       "  <thead>\n",
       "    <tr style=\"text-align: right;\">\n",
       "      <th></th>\n",
       "      <th>Low Calorie Plan</th>\n",
       "      <th>Breakfast</th>\n",
       "      <th>Lunch</th>\n",
       "      <th>Dinner</th>\n",
       "      <th>Snack</th>\n",
       "      <th>Total</th>\n",
       "      <th>Measurement</th>\n",
       "    </tr>\n",
       "  </thead>\n",
       "  <tbody>\n",
       "    <tr>\n",
       "      <th>0</th>\n",
       "      <td>Week 1</td>\n",
       "      <td>Breakfast</td>\n",
       "      <td>Lunch</td>\n",
       "      <td>Dinner</td>\n",
       "      <td>Snack</td>\n",
       "      <td>Total</td>\n",
       "      <td>Measurement</td>\n",
       "    </tr>\n",
       "    <tr>\n",
       "      <th>1</th>\n",
       "      <td>Meal</td>\n",
       "      <td>Peanut Butter and Banana Shake</td>\n",
       "      <td>Hummus on Whole Wheat</td>\n",
       "      <td>Roasted Veggies</td>\n",
       "      <td>Almonds (1 oz)</td>\n",
       "      <td>Nutrition</td>\n",
       "      <td>Measurement</td>\n",
       "    </tr>\n",
       "    <tr>\n",
       "      <th>2</th>\n",
       "      <td>Calories</td>\n",
       "      <td>304</td>\n",
       "      <td>299</td>\n",
       "      <td>402</td>\n",
       "      <td>164</td>\n",
       "      <td>1169</td>\n",
       "      <td>calories</td>\n",
       "    </tr>\n",
       "    <tr>\n",
       "      <th>3</th>\n",
       "      <td>Carbs (grams)</td>\n",
       "      <td>29</td>\n",
       "      <td>38</td>\n",
       "      <td>58</td>\n",
       "      <td>6</td>\n",
       "      <td>131</td>\n",
       "      <td>grams</td>\n",
       "    </tr>\n",
       "    <tr>\n",
       "      <th>4</th>\n",
       "      <td>Fat</td>\n",
       "      <td>19</td>\n",
       "      <td>11</td>\n",
       "      <td>18</td>\n",
       "      <td>14</td>\n",
       "      <td>62</td>\n",
       "      <td>grams</td>\n",
       "    </tr>\n",
       "    <tr>\n",
       "      <th>5</th>\n",
       "      <td>Protein</td>\n",
       "      <td>9</td>\n",
       "      <td>15</td>\n",
       "      <td>11</td>\n",
       "      <td>6</td>\n",
       "      <td>41</td>\n",
       "      <td>grams</td>\n",
       "    </tr>\n",
       "  </tbody>\n",
       "</table>\n",
       "</div>"
      ],
      "text/plain": [
       "  Low Calorie Plan                       Breakfast                  Lunch  \\\n",
       "0           Week 1                       Breakfast                  Lunch   \n",
       "1             Meal  Peanut Butter and Banana Shake  Hummus on Whole Wheat   \n",
       "2         Calories                             304                    299   \n",
       "3    Carbs (grams)                              29                     38   \n",
       "4              Fat                              19                     11   \n",
       "5          Protein                               9                     15   \n",
       "\n",
       "            Dinner           Snack      Total  Measurement  \n",
       "0           Dinner           Snack      Total  Measurement  \n",
       "1  Roasted Veggies  Almonds (1 oz)  Nutrition  Measurement  \n",
       "2              402             164       1169     calories  \n",
       "3               58               6        131        grams  \n",
       "4               18              14         62        grams  \n",
       "5               11               6         41        grams  "
      ]
     },
     "execution_count": 11,
     "metadata": {},
     "output_type": "execute_result"
    }
   ],
   "source": [
    "data = pd.read_csv('../Datasets/Low-Cal.csv')\n",
    "data = data.iloc[0:6]\n",
    "data"
   ]
  },
  {
   "cell_type": "code",
   "execution_count": 23,
   "metadata": {},
   "outputs": [
    {
     "data": {
      "text/plain": [
       "('Week 1', 'Hummus on Whole Wheat', 'Roasted Veggies', 'Almonds (1 oz)')"
      ]
     },
     "execution_count": 23,
     "metadata": {},
     "output_type": "execute_result"
    }
   ],
   "source": [
    "\n",
    "lunch = data['Lunch'].iloc[1]\n",
    "dinner = data['Dinner'].iloc[1]\n",
    "snack = data['Snack'].iloc[1]\n",
    "total = data['Total'].iloc[2]\n",
    "week = data['Low Calorie Plan'].iloc[0]\n",
    "measurement = data['Measurement'].iloc[2]\n",
    "week, lunch, dinner, snack"
   ]
  },
  {
   "cell_type": "code",
   "execution_count": 13,
   "metadata": {},
   "outputs": [
    {
     "data": {
      "text/html": [
       "<div>\n",
       "<style scoped>\n",
       "    .dataframe tbody tr th:only-of-type {\n",
       "        vertical-align: middle;\n",
       "    }\n",
       "\n",
       "    .dataframe tbody tr th {\n",
       "        vertical-align: top;\n",
       "    }\n",
       "\n",
       "    .dataframe thead th {\n",
       "        text-align: right;\n",
       "    }\n",
       "</style>\n",
       "<table border=\"1\" class=\"dataframe\">\n",
       "  <thead>\n",
       "    <tr style=\"text-align: right;\">\n",
       "      <th></th>\n",
       "      <th>Maintain Calorie Plan</th>\n",
       "      <th>Unnamed: 1</th>\n",
       "      <th>Unnamed: 2</th>\n",
       "      <th>Unnamed: 3</th>\n",
       "      <th>Unnamed: 4</th>\n",
       "      <th>Unnamed: 5</th>\n",
       "      <th>Unnamed: 6</th>\n",
       "    </tr>\n",
       "  </thead>\n",
       "  <tbody>\n",
       "    <tr>\n",
       "      <th>1</th>\n",
       "      <td>Meal</td>\n",
       "      <td>Peanut Butter and Banana Oatmeal</td>\n",
       "      <td>White Bean &amp; Veggie Salad</td>\n",
       "      <td>Spinach and Pasta Shells</td>\n",
       "      <td>Banana, Peanut Butter and Raisins</td>\n",
       "      <td>-</td>\n",
       "      <td>NaN</td>\n",
       "    </tr>\n",
       "    <tr>\n",
       "      <th>2</th>\n",
       "      <td>Calories</td>\n",
       "      <td>615</td>\n",
       "      <td>750</td>\n",
       "      <td>696</td>\n",
       "      <td>354</td>\n",
       "      <td>2415</td>\n",
       "      <td>calories</td>\n",
       "    </tr>\n",
       "    <tr>\n",
       "      <th>3</th>\n",
       "      <td>Carbs (grams)</td>\n",
       "      <td>92</td>\n",
       "      <td>69</td>\n",
       "      <td>135</td>\n",
       "      <td>63</td>\n",
       "      <td>359</td>\n",
       "      <td>grams</td>\n",
       "    </tr>\n",
       "    <tr>\n",
       "      <th>4</th>\n",
       "      <td>Fat</td>\n",
       "      <td>24</td>\n",
       "      <td>49</td>\n",
       "      <td>10</td>\n",
       "      <td>12</td>\n",
       "      <td>95</td>\n",
       "      <td>grams</td>\n",
       "    </tr>\n",
       "    <tr>\n",
       "      <th>5</th>\n",
       "      <td>Protein</td>\n",
       "      <td>21</td>\n",
       "      <td>21</td>\n",
       "      <td>29</td>\n",
       "      <td>8</td>\n",
       "      <td>79</td>\n",
       "      <td>grams</td>\n",
       "    </tr>\n",
       "  </tbody>\n",
       "</table>\n",
       "</div>"
      ],
      "text/plain": [
       "  Maintain Calorie Plan                        Unnamed: 1  \\\n",
       "1                  Meal  Peanut Butter and Banana Oatmeal   \n",
       "2              Calories                               615   \n",
       "3         Carbs (grams)                                92   \n",
       "4                   Fat                                24   \n",
       "5               Protein                                21   \n",
       "\n",
       "                  Unnamed: 2                Unnamed: 3  \\\n",
       "1  White Bean & Veggie Salad  Spinach and Pasta Shells   \n",
       "2                        750                       696   \n",
       "3                         69                       135   \n",
       "4                         49                        10   \n",
       "5                         21                        29   \n",
       "\n",
       "                          Unnamed: 4 Unnamed: 5 Unnamed: 6  \n",
       "1  Banana, Peanut Butter and Raisins          -        NaN  \n",
       "2                                354       2415   calories  \n",
       "3                                 63        359      grams  \n",
       "4                                 12         95      grams  \n",
       "5                                  8         79      grams  "
      ]
     },
     "execution_count": 13,
     "metadata": {},
     "output_type": "execute_result"
    }
   ],
   "source": [
    "df = pd.read_csv('../Datasets/Maintain.csv')\n",
    "df = df.iloc[1:6]\n",
    "df"
   ]
  },
  {
   "cell_type": "code",
   "execution_count": 15,
   "metadata": {},
   "outputs": [
    {
     "data": {
      "text/plain": [
       "'2415'"
      ]
     },
     "execution_count": 15,
     "metadata": {},
     "output_type": "execute_result"
    }
   ],
   "source": [
    "breakfast = df['Unnamed: 1'].iloc[0]\n",
    "lunch = df['Unnamed: 2'].iloc[0]\n",
    "dinner = df['Unnamed: 3'].iloc[0]\n",
    "snack = df['Unnamed: 4'].iloc[0]\n",
    "\n",
    "calories = df['Unnamed: 5'].iloc[1]\n",
    "measurement = df['Unnamed: 6'].iloc[1]\n",
    "calories"
   ]
  },
  {
   "cell_type": "code",
   "execution_count": null,
   "metadata": {},
   "outputs": [],
   "source": []
  }
 ],
 "metadata": {
  "kernelspec": {
   "display_name": "Python 3",
   "language": "python",
   "name": "python3"
  },
  "language_info": {
   "codemirror_mode": {
    "name": "ipython",
    "version": 3
   },
   "file_extension": ".py",
   "mimetype": "text/x-python",
   "name": "python",
   "nbconvert_exporter": "python",
   "pygments_lexer": "ipython3",
   "version": "3.7.6"
  }
 },
 "nbformat": 4,
 "nbformat_minor": 4
}
