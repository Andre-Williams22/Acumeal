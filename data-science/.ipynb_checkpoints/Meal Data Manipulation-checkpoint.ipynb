{
 "cells": [
  {
   "cell_type": "code",
   "execution_count": 1,
   "metadata": {},
   "outputs": [],
   "source": [
    "import pandas as pd \n",
    "import numpy as np "
   ]
  },
  {
   "cell_type": "code",
   "execution_count": 19,
   "metadata": {},
   "outputs": [
    {
     "data": {
      "text/html": [
       "<div>\n",
       "<style scoped>\n",
       "    .dataframe tbody tr th:only-of-type {\n",
       "        vertical-align: middle;\n",
       "    }\n",
       "\n",
       "    .dataframe tbody tr th {\n",
       "        vertical-align: top;\n",
       "    }\n",
       "\n",
       "    .dataframe thead th {\n",
       "        text-align: right;\n",
       "    }\n",
       "</style>\n",
       "<table border=\"1\" class=\"dataframe\">\n",
       "  <thead>\n",
       "    <tr style=\"text-align: right;\">\n",
       "      <th></th>\n",
       "      <th>High Calorie Plan</th>\n",
       "      <th>Breakfast1</th>\n",
       "      <th>Breakfast2</th>\n",
       "      <th>Lunch</th>\n",
       "      <th>Dinner</th>\n",
       "      <th>Snack</th>\n",
       "      <th>Total</th>\n",
       "      <th>Measurement</th>\n",
       "    </tr>\n",
       "  </thead>\n",
       "  <tbody>\n",
       "    <tr>\n",
       "      <th>1</th>\n",
       "      <td>Meal</td>\n",
       "      <td>Knock-Oats</td>\n",
       "      <td>Vegan Breakfast Potatoes</td>\n",
       "      <td>Strawberry protein smoothie</td>\n",
       "      <td>Basil Pesto Pasta w/ Broccoli, Mushrooms</td>\n",
       "      <td>Peanut Butter &amp; Celery</td>\n",
       "      <td>Nutrition</td>\n",
       "      <td>Measurement</td>\n",
       "    </tr>\n",
       "    <tr>\n",
       "      <th>2</th>\n",
       "      <td>Calories</td>\n",
       "      <td>451</td>\n",
       "      <td>366</td>\n",
       "      <td>769</td>\n",
       "      <td>1070</td>\n",
       "      <td>418</td>\n",
       "      <td>3074</td>\n",
       "      <td>calories</td>\n",
       "    </tr>\n",
       "    <tr>\n",
       "      <th>3</th>\n",
       "      <td>Carbs (grams)</td>\n",
       "      <td>63</td>\n",
       "      <td>55</td>\n",
       "      <td>44</td>\n",
       "      <td>98</td>\n",
       "      <td>21</td>\n",
       "      <td>281</td>\n",
       "      <td>grams</td>\n",
       "    </tr>\n",
       "    <tr>\n",
       "      <th>4</th>\n",
       "      <td>Fat</td>\n",
       "      <td>20</td>\n",
       "      <td>14</td>\n",
       "      <td>19</td>\n",
       "      <td>64</td>\n",
       "      <td>32</td>\n",
       "      <td>149</td>\n",
       "      <td>grams</td>\n",
       "    </tr>\n",
       "    <tr>\n",
       "      <th>5</th>\n",
       "      <td>Protein</td>\n",
       "      <td>14</td>\n",
       "      <td>7</td>\n",
       "      <td>105</td>\n",
       "      <td>26</td>\n",
       "      <td>17</td>\n",
       "      <td>169</td>\n",
       "      <td>grams</td>\n",
       "    </tr>\n",
       "  </tbody>\n",
       "</table>\n",
       "</div>"
      ],
      "text/plain": [
       "  High Calorie Plan  Breakfast1                Breakfast2  \\\n",
       "1              Meal  Knock-Oats  Vegan Breakfast Potatoes   \n",
       "2          Calories         451                       366   \n",
       "3     Carbs (grams)          63                        55   \n",
       "4               Fat          20                        14   \n",
       "5           Protein          14                         7   \n",
       "\n",
       "                         Lunch                                    Dinner  \\\n",
       "1  Strawberry protein smoothie  Basil Pesto Pasta w/ Broccoli, Mushrooms   \n",
       "2                          769                                      1070   \n",
       "3                           44                                        98   \n",
       "4                           19                                        64   \n",
       "5                          105                                        26   \n",
       "\n",
       "                    Snack      Total  Measurement  \n",
       "1  Peanut Butter & Celery  Nutrition  Measurement  \n",
       "2                     418       3074     calories  \n",
       "3                      21        281        grams  \n",
       "4                      32        149        grams  \n",
       "5                      17        169        grams  "
      ]
     },
     "execution_count": 19,
     "metadata": {},
     "output_type": "execute_result"
    }
   ],
   "source": [
    "df = pd.read_csv(\"../Datasets/High-Cal.csv\")\n",
    "df = df.iloc[1:6]\n",
    "df"
   ]
  },
  {
   "cell_type": "markdown",
   "metadata": {},
   "source": [
    "# Week 1"
   ]
  },
  {
   "cell_type": "code",
   "execution_count": 30,
   "metadata": {},
   "outputs": [
    {
     "data": {
      "text/plain": [
       "'Knock-Oats'"
      ]
     },
     "execution_count": 30,
     "metadata": {},
     "output_type": "execute_result"
    }
   ],
   "source": [
    "df['Breakfast1'].iloc[0]"
   ]
  },
  {
   "cell_type": "code",
   "execution_count": 21,
   "metadata": {},
   "outputs": [
    {
     "data": {
      "text/plain": [
       "'Vegan Breakfast Potatoes'"
      ]
     },
     "execution_count": 21,
     "metadata": {},
     "output_type": "execute_result"
    }
   ],
   "source": [
    "df['Breakfast2'].iloc[0]"
   ]
  },
  {
   "cell_type": "code",
   "execution_count": 31,
   "metadata": {},
   "outputs": [
    {
     "data": {
      "text/plain": [
       "'Strawberry protein smoothie'"
      ]
     },
     "execution_count": 31,
     "metadata": {},
     "output_type": "execute_result"
    }
   ],
   "source": [
    "df['Lunch'].iloc[0]"
   ]
  },
  {
   "cell_type": "code",
   "execution_count": 32,
   "metadata": {},
   "outputs": [
    {
     "data": {
      "text/plain": [
       "'Basil Pesto Pasta w/ Broccoli, Mushrooms'"
      ]
     },
     "execution_count": 32,
     "metadata": {},
     "output_type": "execute_result"
    }
   ],
   "source": [
    "df['Dinner'].iloc[0]"
   ]
  },
  {
   "cell_type": "code",
   "execution_count": 33,
   "metadata": {},
   "outputs": [
    {
     "data": {
      "text/plain": [
       "'Peanut Butter & Celery'"
      ]
     },
     "execution_count": 33,
     "metadata": {},
     "output_type": "execute_result"
    }
   ],
   "source": [
    "df['Snack'].iloc[0]"
   ]
  },
  {
   "cell_type": "code",
   "execution_count": 34,
   "metadata": {},
   "outputs": [
    {
     "data": {
      "text/plain": [
       "'3074'"
      ]
     },
     "execution_count": 34,
     "metadata": {},
     "output_type": "execute_result"
    }
   ],
   "source": [
    "df['Total'].iloc[1] #TOTAL CALORIES"
   ]
  },
  {
   "cell_type": "code",
   "execution_count": null,
   "metadata": {},
   "outputs": [],
   "source": []
  },
  {
   "cell_type": "code",
   "execution_count": null,
   "metadata": {},
   "outputs": [],
   "source": []
  },
  {
   "cell_type": "code",
   "execution_count": null,
   "metadata": {},
   "outputs": [],
   "source": []
  },
  {
   "cell_type": "code",
   "execution_count": 24,
   "metadata": {},
   "outputs": [
    {
     "data": {
      "text/plain": [
       "0           Week 1\n",
       "1             Meal\n",
       "2         Calories\n",
       "3    Carbs (grams)\n",
       "4              Fat\n",
       "5          Protein\n",
       "Name: High Calorie Plan, dtype: object"
      ]
     },
     "execution_count": 24,
     "metadata": {},
     "output_type": "execute_result"
    }
   ],
   "source": [
    "breakfast = df['Breakfast1']\n",
    "lunch = df['Lunch']\n",
    "dinner = df['Dinner']\n",
    "snack = df['Snack']\n",
    "total = df['Total']\n",
    "week = df['High Calorie Plan']\n",
    "week"
   ]
  },
  {
   "cell_type": "code",
   "execution_count": 34,
   "metadata": {},
   "outputs": [
    {
     "data": {
      "text/html": [
       "<div>\n",
       "<style scoped>\n",
       "    .dataframe tbody tr th:only-of-type {\n",
       "        vertical-align: middle;\n",
       "    }\n",
       "\n",
       "    .dataframe tbody tr th {\n",
       "        vertical-align: top;\n",
       "    }\n",
       "\n",
       "    .dataframe thead th {\n",
       "        text-align: right;\n",
       "    }\n",
       "</style>\n",
       "<table border=\"1\" class=\"dataframe\">\n",
       "  <thead>\n",
       "    <tr style=\"text-align: right;\">\n",
       "      <th></th>\n",
       "      <th>Low Calorie Plan</th>\n",
       "      <th>Breakfast</th>\n",
       "      <th>Lunch</th>\n",
       "      <th>Dinner</th>\n",
       "      <th>Snack</th>\n",
       "      <th>Total</th>\n",
       "      <th>Measurement</th>\n",
       "    </tr>\n",
       "  </thead>\n",
       "  <tbody>\n",
       "    <tr>\n",
       "      <th>0</th>\n",
       "      <td>Week 1</td>\n",
       "      <td>Breakfast</td>\n",
       "      <td>Lunch</td>\n",
       "      <td>Dinner</td>\n",
       "      <td>Snack</td>\n",
       "      <td>Total</td>\n",
       "      <td>Measurement</td>\n",
       "    </tr>\n",
       "    <tr>\n",
       "      <th>1</th>\n",
       "      <td>Meal</td>\n",
       "      <td>Peanut Butter and Banana Shake</td>\n",
       "      <td>Hummus on Whole Wheat</td>\n",
       "      <td>Roasted Veggies</td>\n",
       "      <td>Almonds (1 oz)</td>\n",
       "      <td>Nutrition</td>\n",
       "      <td>Measurement</td>\n",
       "    </tr>\n",
       "    <tr>\n",
       "      <th>2</th>\n",
       "      <td>Calories</td>\n",
       "      <td>304</td>\n",
       "      <td>299</td>\n",
       "      <td>402</td>\n",
       "      <td>164</td>\n",
       "      <td>1169</td>\n",
       "      <td>calories</td>\n",
       "    </tr>\n",
       "    <tr>\n",
       "      <th>3</th>\n",
       "      <td>Carbs (grams)</td>\n",
       "      <td>29</td>\n",
       "      <td>38</td>\n",
       "      <td>58</td>\n",
       "      <td>6</td>\n",
       "      <td>131</td>\n",
       "      <td>grams</td>\n",
       "    </tr>\n",
       "    <tr>\n",
       "      <th>4</th>\n",
       "      <td>Fat</td>\n",
       "      <td>19</td>\n",
       "      <td>11</td>\n",
       "      <td>18</td>\n",
       "      <td>14</td>\n",
       "      <td>62</td>\n",
       "      <td>grams</td>\n",
       "    </tr>\n",
       "    <tr>\n",
       "      <th>5</th>\n",
       "      <td>Protein</td>\n",
       "      <td>9</td>\n",
       "      <td>15</td>\n",
       "      <td>11</td>\n",
       "      <td>6</td>\n",
       "      <td>41</td>\n",
       "      <td>grams</td>\n",
       "    </tr>\n",
       "  </tbody>\n",
       "</table>\n",
       "</div>"
      ],
      "text/plain": [
       "  Low Calorie Plan                       Breakfast                  Lunch  \\\n",
       "0           Week 1                       Breakfast                  Lunch   \n",
       "1             Meal  Peanut Butter and Banana Shake  Hummus on Whole Wheat   \n",
       "2         Calories                             304                    299   \n",
       "3    Carbs (grams)                              29                     38   \n",
       "4              Fat                              19                     11   \n",
       "5          Protein                               9                     15   \n",
       "\n",
       "            Dinner           Snack      Total  Measurement  \n",
       "0           Dinner           Snack      Total  Measurement  \n",
       "1  Roasted Veggies  Almonds (1 oz)  Nutrition  Measurement  \n",
       "2              402             164       1169     calories  \n",
       "3               58               6        131        grams  \n",
       "4               18              14         62        grams  \n",
       "5               11               6         41        grams  "
      ]
     },
     "execution_count": 34,
     "metadata": {},
     "output_type": "execute_result"
    }
   ],
   "source": [
    "data = pd.read_csv('../Datasets/Low-Cal.csv')\n",
    "data = data.iloc[0:6]\n",
    "data"
   ]
  },
  {
   "cell_type": "code",
   "execution_count": 36,
   "metadata": {},
   "outputs": [
    {
     "data": {
      "text/plain": [
       "0    Measurement\n",
       "1    Measurement\n",
       "2       calories\n",
       "3          grams\n",
       "4          grams\n",
       "5          grams\n",
       "Name: Measurement, dtype: object"
      ]
     },
     "execution_count": 36,
     "metadata": {},
     "output_type": "execute_result"
    }
   ],
   "source": [
    "\n",
    "lunch = data['Lunch']\n",
    "dinner = data['Dinner']\n",
    "snack = data['Snack']\n",
    "total = data['Total']\n",
    "week = data['Low Calorie Plan']\n",
    "measurement = data['Measurement']\n",
    "measurement"
   ]
  },
  {
   "cell_type": "code",
   "execution_count": null,
   "metadata": {},
   "outputs": [],
   "source": []
  }
 ],
 "metadata": {
  "kernelspec": {
   "display_name": "Python 3",
   "language": "python",
   "name": "python3"
  },
  "language_info": {
   "codemirror_mode": {
    "name": "ipython",
    "version": 3
   },
   "file_extension": ".py",
   "mimetype": "text/x-python",
   "name": "python",
   "nbconvert_exporter": "python",
   "pygments_lexer": "ipython3",
   "version": "3.7.6"
  }
 },
 "nbformat": 4,
 "nbformat_minor": 4
}
